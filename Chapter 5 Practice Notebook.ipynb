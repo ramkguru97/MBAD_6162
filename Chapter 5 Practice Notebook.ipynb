{
 "cells": [
  {
   "cell_type": "markdown",
   "metadata": {},
   "source": [
    "## Chapter 5 Homework Practice\n",
    "## Using the Adult dataset\n",
    "## This practice solution follows coding conventions from the Larose text\n",
    "## examples in Chapter 5\n",
    "<br>"
   ]
  },
  {
   "cell_type": "code",
   "execution_count": 1,
   "metadata": {},
   "outputs": [
    {
     "name": "stderr",
     "output_type": "stream",
     "text": [
      "C:\\Users\\pthompso\\AppData\\Local\\Continuum\\anaconda3\\lib\\site-packages\\numpy\\_distributor_init.py:32: UserWarning: loaded more than 1 DLL from .libs:\n",
      "C:\\Users\\pthompso\\AppData\\Local\\Continuum\\anaconda3\\lib\\site-packages\\numpy\\.libs\\libopenblas.PYQHXLVVQ7VESDPUVUADXEVJOBGHJPAY.gfortran-win_amd64.dll\n",
      "C:\\Users\\pthompso\\AppData\\Local\\Continuum\\anaconda3\\lib\\site-packages\\numpy\\.libs\\libopenblas.TXA6YQSD3GCQQC22GEQ54J2UDCXDXHWN.gfortran-win_amd64.dll\n",
      "  stacklevel=1)\n"
     ]
    },
    {
     "name": "stdout",
     "output_type": "stream",
     "text": [
      "<class 'pandas.core.frame.DataFrame'>\n",
      "RangeIndex: 25000 entries, 0 to 24999\n",
      "Data columns (total 15 columns):\n",
      "age               25000 non-null int64\n",
      "workclass         25000 non-null object\n",
      "demogweight       25000 non-null int64\n",
      "education         25000 non-null object\n",
      "education-num     25000 non-null int64\n",
      "marital-status    25000 non-null object\n",
      "occupation        25000 non-null object\n",
      "relationship      25000 non-null object\n",
      "race              25000 non-null object\n",
      "sex               25000 non-null object\n",
      "capital-gain      25000 non-null int64\n",
      "capital-loss      25000 non-null int64\n",
      "hours-per-week    25000 non-null int64\n",
      "native-country    25000 non-null object\n",
      "income            25000 non-null object\n",
      "dtypes: int64(6), object(9)\n",
      "memory usage: 2.9+ MB\n"
     ]
    }
   ],
   "source": [
    "#We are working with the adult data set \n",
    "\n",
    "# import required package\n",
    "import pandas as pd\n",
    "\n",
    "# read the csv adult data using the pandas package\n",
    "adult = pd.read_csv(\"Adult\")\n",
    "adult.info()\n"
   ]
  },
  {
   "cell_type": "code",
   "execution_count": 2,
   "metadata": {},
   "outputs": [
    {
     "data": {
      "text/html": [
       "<div>\n",
       "<style scoped>\n",
       "    .dataframe tbody tr th:only-of-type {\n",
       "        vertical-align: middle;\n",
       "    }\n",
       "\n",
       "    .dataframe tbody tr th {\n",
       "        vertical-align: top;\n",
       "    }\n",
       "\n",
       "    .dataframe thead th {\n",
       "        text-align: right;\n",
       "    }\n",
       "</style>\n",
       "<table border=\"1\" class=\"dataframe\">\n",
       "  <thead>\n",
       "    <tr style=\"text-align: right;\">\n",
       "      <th></th>\n",
       "      <th>age</th>\n",
       "      <th>workclass</th>\n",
       "      <th>demogweight</th>\n",
       "      <th>education</th>\n",
       "      <th>education-num</th>\n",
       "      <th>marital-status</th>\n",
       "      <th>occupation</th>\n",
       "      <th>relationship</th>\n",
       "      <th>race</th>\n",
       "      <th>sex</th>\n",
       "      <th>capital-gain</th>\n",
       "      <th>capital-loss</th>\n",
       "      <th>hours-per-week</th>\n",
       "      <th>native-country</th>\n",
       "      <th>income</th>\n",
       "    </tr>\n",
       "  </thead>\n",
       "  <tbody>\n",
       "    <tr>\n",
       "      <td>0</td>\n",
       "      <td>39</td>\n",
       "      <td>State-gov</td>\n",
       "      <td>77516</td>\n",
       "      <td>Bachelors</td>\n",
       "      <td>13</td>\n",
       "      <td>Never-married</td>\n",
       "      <td>Adm-clerical</td>\n",
       "      <td>Not-in-family</td>\n",
       "      <td>White</td>\n",
       "      <td>Male</td>\n",
       "      <td>2174</td>\n",
       "      <td>0</td>\n",
       "      <td>40</td>\n",
       "      <td>United-States</td>\n",
       "      <td>&lt;=50K.</td>\n",
       "    </tr>\n",
       "    <tr>\n",
       "      <td>1</td>\n",
       "      <td>50</td>\n",
       "      <td>Self-emp-not-inc</td>\n",
       "      <td>83311</td>\n",
       "      <td>Bachelors</td>\n",
       "      <td>13</td>\n",
       "      <td>Married-civ-spouse</td>\n",
       "      <td>Exec-managerial</td>\n",
       "      <td>Husband</td>\n",
       "      <td>White</td>\n",
       "      <td>Male</td>\n",
       "      <td>0</td>\n",
       "      <td>0</td>\n",
       "      <td>13</td>\n",
       "      <td>United-States</td>\n",
       "      <td>&lt;=50K.</td>\n",
       "    </tr>\n",
       "    <tr>\n",
       "      <td>2</td>\n",
       "      <td>38</td>\n",
       "      <td>Private</td>\n",
       "      <td>215646</td>\n",
       "      <td>HS-grad</td>\n",
       "      <td>9</td>\n",
       "      <td>Divorced</td>\n",
       "      <td>Handlers-cleaners</td>\n",
       "      <td>Not-in-family</td>\n",
       "      <td>White</td>\n",
       "      <td>Male</td>\n",
       "      <td>0</td>\n",
       "      <td>0</td>\n",
       "      <td>40</td>\n",
       "      <td>United-States</td>\n",
       "      <td>&lt;=50K.</td>\n",
       "    </tr>\n",
       "    <tr>\n",
       "      <td>3</td>\n",
       "      <td>53</td>\n",
       "      <td>Private</td>\n",
       "      <td>234721</td>\n",
       "      <td>11th</td>\n",
       "      <td>7</td>\n",
       "      <td>Married-civ-spouse</td>\n",
       "      <td>Handlers-cleaners</td>\n",
       "      <td>Husband</td>\n",
       "      <td>Black</td>\n",
       "      <td>Male</td>\n",
       "      <td>0</td>\n",
       "      <td>0</td>\n",
       "      <td>40</td>\n",
       "      <td>United-States</td>\n",
       "      <td>&lt;=50K.</td>\n",
       "    </tr>\n",
       "    <tr>\n",
       "      <td>4</td>\n",
       "      <td>28</td>\n",
       "      <td>Private</td>\n",
       "      <td>338409</td>\n",
       "      <td>Bachelors</td>\n",
       "      <td>13</td>\n",
       "      <td>Married-civ-spouse</td>\n",
       "      <td>Prof-specialty</td>\n",
       "      <td>Wife</td>\n",
       "      <td>Black</td>\n",
       "      <td>Female</td>\n",
       "      <td>0</td>\n",
       "      <td>0</td>\n",
       "      <td>40</td>\n",
       "      <td>Cuba</td>\n",
       "      <td>&lt;=50K.</td>\n",
       "    </tr>\n",
       "  </tbody>\n",
       "</table>\n",
       "</div>"
      ],
      "text/plain": [
       "   age         workclass  demogweight  education  education-num  \\\n",
       "0   39         State-gov        77516  Bachelors             13   \n",
       "1   50  Self-emp-not-inc        83311  Bachelors             13   \n",
       "2   38           Private       215646    HS-grad              9   \n",
       "3   53           Private       234721       11th              7   \n",
       "4   28           Private       338409  Bachelors             13   \n",
       "\n",
       "       marital-status         occupation   relationship   race     sex  \\\n",
       "0       Never-married       Adm-clerical  Not-in-family  White    Male   \n",
       "1  Married-civ-spouse    Exec-managerial        Husband  White    Male   \n",
       "2            Divorced  Handlers-cleaners  Not-in-family  White    Male   \n",
       "3  Married-civ-spouse  Handlers-cleaners        Husband  Black    Male   \n",
       "4  Married-civ-spouse     Prof-specialty           Wife  Black  Female   \n",
       "\n",
       "   capital-gain  capital-loss  hours-per-week native-country  income  \n",
       "0          2174             0              40  United-States  <=50K.  \n",
       "1             0             0              13  United-States  <=50K.  \n",
       "2             0             0              40  United-States  <=50K.  \n",
       "3             0             0              40  United-States  <=50K.  \n",
       "4             0             0              40           Cuba  <=50K.  "
      ]
     },
     "execution_count": 2,
     "metadata": {},
     "output_type": "execute_result"
    }
   ],
   "source": [
    "adult.head()"
   ]
  },
  {
   "cell_type": "code",
   "execution_count": 3,
   "metadata": {},
   "outputs": [
    {
     "data": {
      "text/plain": [
       "<matplotlib.axes._subplots.AxesSubplot at 0x22299db7288>"
      ]
     },
     "execution_count": 3,
     "metadata": {},
     "output_type": "execute_result"
    },
    {
     "data": {
      "image/png": "[encoded data removed]",
      "text/plain": [
       "<Figure size 432x288 with 1 Axes>"
      ]
     },
     "metadata": {
      "needs_background": "light"
     },
     "output_type": "display_data"
    }
   ],
   "source": [
    "\n",
    "# Question 21\n",
    "# Partition the data set, so that 50% of the records are included in the training data set and 50% are included in the test data set. \n",
    "# Use a bar graph to confirm your proportions. \n",
    "\n",
    "# import required packages\n",
    "from sklearn.model_selection import train_test_split\n",
    "import random\n",
    "\n",
    "# create partition\n",
    "adult_train, adult_test = train_test_split(adult, test_size = 0.5, random_state = 7)\n",
    "\n",
    "# collect proportion values in a dataframe \n",
    "df = pd.DataFrame({'Partition':['Train', 'Test'],\n",
    "                   'Portion':[(adult_train.shape[0]/adult.shape[0]),\n",
    "                              (adult_test.shape[0]/adult.shape[0])]\n",
    "                   })\n",
    "# create barplot\n",
    "df.set_index('Partition').plot(kind='bar')\n"
   ]
  },
  {
   "cell_type": "code",
   "execution_count": 4,
   "metadata": {},
   "outputs": [
    {
     "name": "stdout",
     "output_type": "stream",
     "text": [
      "The total number of records in the training dataset is 12500\n",
      "There are 2981 records in the training data set that have “>50K” income\n"
     ]
    }
   ],
   "source": [
    "\n",
    "# Question 22\n",
    "# Identify the total number of records in the training data set, and how many records in the training data set have an income value of >50 K.  \n",
    "\n",
    "print('The total number of records in the training dataset is', adult_train.shape[0])\n",
    "\n",
    "\n",
    "print('There are', adult_train.loc[adult_train['income']=='>50K.'].shape[0], 'records in the training data set that have “>50K” income')\n",
    "\n"
   ]
  },
  {
   "cell_type": "code",
   "execution_count": 5,
   "metadata": {},
   "outputs": [
    {
     "name": "stdout",
     "output_type": "stream",
     "text": [
      "The portion size is  2144.6153846153848\n"
     ]
    }
   ],
   "source": [
    "\n",
    "# Question 23\n",
    "# Use your answers from the previous exercise to calculate how many records with income >50 K you need to resample in order to have 35% of the rebalanced data set have incomes of >50 K. \n",
    "\n",
    "# create variables needed to compute resampled record size\n",
    "greater_50K_records = adult_train.loc[adult_train['income']=='>50K.'].shape[0]\n",
    "total_records = adult_train.shape[0]\n",
    "\n",
    "# determin portion size to ressample\n",
    "portion_size = (0.35 * total_records - greater_50K_records) / 0.65\n",
    "print('The portion size is ', portion_size)"
   ]
  },
  {
   "cell_type": "code",
   "execution_count": 6,
   "metadata": {},
   "outputs": [
    {
     "name": "stdout",
     "output_type": "stream",
     "text": [
      "<class 'pandas.core.frame.DataFrame'>\n",
      "Int64Index: 14645 entries, 15055 to 9033\n",
      "Data columns (total 15 columns):\n",
      "age               14645 non-null int64\n",
      "workclass         14645 non-null object\n",
      "demogweight       14645 non-null int64\n",
      "education         14645 non-null object\n",
      "education-num     14645 non-null int64\n",
      "marital-status    14645 non-null object\n",
      "occupation        14645 non-null object\n",
      "relationship      14645 non-null object\n",
      "race              14645 non-null object\n",
      "sex               14645 non-null object\n",
      "capital-gain      14645 non-null int64\n",
      "capital-loss      14645 non-null int64\n",
      "hours-per-week    14645 non-null int64\n",
      "native-country    14645 non-null object\n",
      "income            14645 non-null object\n",
      "dtypes: int64(6), object(9)\n",
      "memory usage: 1.8+ MB\n"
     ]
    }
   ],
   "source": [
    "\n",
    "# Question 24\n",
    "# Perform the rebalancing described in the previous exercise and confirm that 35% of the records in the rebalanced data set have incomes >50 K. \n",
    "\n",
    "# subset the records to be resampled\n",
    "to_resample = adult_train.loc[adult_train['income']=='>50K.']\n",
    "\n",
    "# resample the '>50K' records to the determined sample size\n",
    "our_resample = to_resample.sample(n = 2145, replace = True)\n",
    "\n",
    "# concatenate the sampled data with the rest of the training data so that it's rebalanced\n",
    "adult_train_rebal = pd.concat([adult_train, our_resample])\n",
    "adult_train_rebal.info()"
   ]
  },
  {
   "cell_type": "code",
   "execution_count": 7,
   "metadata": {},
   "outputs": [
    {
     "name": "stdout",
     "output_type": "stream",
     "text": [
      "Proportion of incone classes in training data is  <=50K.    0.649983\n",
      ">50K.     0.350017\n",
      "Name: income, dtype: float64\n"
     ]
    }
   ],
   "source": [
    "\n",
    "# table proportion of income classes in training data\n",
    "proportion_income_classes = adult_train_rebal['income'].value_counts() / adult_train_rebal.shape[0]\n",
    "print('Proportion of incone classes in training data is ',proportion_income_classes)"
   ]
  },
  {
   "cell_type": "code",
   "execution_count": 8,
   "metadata": {},
   "outputs": [
    {
     "name": "stdout",
     "output_type": "stream",
     "text": [
      "The baseline is  <=50K.    0.76152\n",
      ">50K.     0.23848\n",
      "Name: income, dtype: float64\n"
     ]
    }
   ],
   "source": [
    "\n",
    "# Question 25\n",
    "# Which baseline model do we use to compare our classification model performance against? \n",
    "# To which value does this baseline model assign all predictions? \n",
    "# What is the accuracy of this baseline model? \n",
    "\n",
    "# The baseline is determined by looking at which income class has the greatest proportion of the data which is <=50K.\n",
    "# If a model were to predict no >50K then the model would have an accuracy of 76% \n",
    "# Therefore the selected model would have to outperform this baseline model in order to have any use in the real world. \n",
    "\n",
    "baseline_value = adult_train['income'].value_counts() / adult_train.shape[0]\n",
    "print('The baseline is ',baseline_value)"
   ]
  },
  {
   "cell_type": "code",
   "execution_count": 10,
   "metadata": {},
   "outputs": [
    {
     "name": "stdout",
     "output_type": "stream",
     "text": [
      "Z is  0.039274 P value is  0.968672\n"
     ]
    }
   ],
   "source": [
    "\n",
    "# Question 26\n",
    "# Validate your partition by performing a two‐sample Z‐test for the difference in means for the mean age in the training set versus the mean age in the test set.\n",
    "\n",
    "from numpy import sqrt, abs, round\n",
    "from scipy.stats import norm\n",
    "from statistics import stdev\n",
    "\n",
    "n1 = adult_train.shape[0]\n",
    "x1 = adult_train['age'].mean()\n",
    "sd1 = stdev(adult_train['age'])\n",
    "\n",
    "n2 = adult_test.shape[0]\n",
    "x2 = adult_test['age'].mean()\n",
    "sd2 = stdev(adult_test['age'])\n",
    "\n",
    "# calculate the denominator pooled standard error\n",
    "pooledSE = sqrt(sd1**2/n1 + sd2**2/n2)\n",
    "\n",
    "#calculate z value\n",
    "z = round(((x1 - x2) - 0) /pooledSE,6)\n",
    "\n",
    "# caluculate p-value\n",
    "pval =  round(2*(1 - norm.cdf(abs(z))),6)\n",
    "\n",
    "print('Z is ',z,'P value is ',pval)\n"
   ]
  },
  {
   "cell_type": "code",
   "execution_count": 11,
   "metadata": {},
   "outputs": [
    {
     "name": "stdout",
     "output_type": "stream",
     "text": [
      "Z is  -0.32609 P value is  0.744356\n"
     ]
    }
   ],
   "source": [
    "\n",
    "# Because the p-value > than alpha 0.05 the null hypothesis H0 is accepted.\n",
    "# Meaning that there is not evidence of significant differences between the age in the train and test datasets \n",
    "\n",
    "# Question 27\n",
    "# Validate your partition by performing a two‐sample Z‐test for the difference in proportions \n",
    "# for the proportion of >50 K records in the training set versus the proportion of >50 K records in the test set. \n",
    "\n",
    "n1 = adult_train.shape[0]\n",
    "x1 = adult_train.loc[adult_train['income']=='>50K.'].shape[0]\n",
    "p1 = x1 / n1\n",
    "\n",
    "n2 = adult_test.shape[0]\n",
    "x2 = adult_test.loc[adult_test['income']=='>50K.'].shape[0] \n",
    "p2 = x2 / n2\n",
    "\n",
    "p = (x1+x2)/(n1+n2)\n",
    "\n",
    "#calculate z value\n",
    "z = round(((p1-p2)-0)/sqrt(p*(1-p)*(1/n1+1/n2)),6)\n",
    "\n",
    "# caluculate p-value\n",
    "pval =  round(2*(1 - norm.cdf(abs(z))),6)\n",
    "print('Z is ',z,'P value is ',pval)\n",
    "\n"
   ]
  },
  {
   "cell_type": "code",
   "execution_count": null,
   "metadata": {},
   "outputs": [],
   "source": [
    "\n",
    "# Because the p-value > than alpha 0.05 the null hypothesis H0 is accepted.\n",
    "# Meaning that there is not evidence of significant difference between the >50K income proportions in the training and test datasets \n",
    "#"
   ]
  }
 ],
 "metadata": {
  "kernelspec": {
   "display_name": "Python 3",
   "language": "python",
   "name": "python3"
  },
  "language_info": {
   "codemirror_mode": {
    "name": "ipython",
    "version": 3
   },
   "file_extension": ".py",
   "mimetype": "text/x-python",
   "name": "python",
   "nbconvert_exporter": "python",
   "pygments_lexer": "ipython3",
   "version": "3.7.4"
  }
 },
 "nbformat": 4,
 "nbformat_minor": 4
}
