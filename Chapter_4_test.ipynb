{
  "nbformat": 4,
  "nbformat_minor": 0,
  "metadata": {
    "colab": {
      "name": "Untitled0.ipynb",
      "provenance": [],
      "authorship_tag": "ABX9TyNxxrXPRqRXvnVnnGaMSZ4A",
      "include_colab_link": true
    },
    "kernelspec": {
      "name": "python3",
      "display_name": "Python 3"
    },
    "language_info": {
      "name": "python"
    }
  },
  "cells": [
    {
      "cell_type": "markdown",
      "metadata": {
        "id": "view-in-github",
        "colab_type": "text"
      },
      "source": [
        "<a href=\"https://colab.research.google.com/github/ramkguru97/MBAD_6162/blob/main/Chapter_4_test.ipynb\" target=\"_parent\"><img src=\"https://colab.research.google.com/assets/colab-badge.svg\" alt=\"Open In Colab\"/></a>"
      ]
    },
    {
      "cell_type": "code",
      "metadata": {
        "id": "ISwMdKYqFcY1"
      },
      "source": [
        "#Load the Iris dataset\n",
        "#The data analysis libraries, i.e. NumPy and Pandas are an integral part of Data Visualisation and\n",
        "#are often required for data preprocessing."
      ],
      "execution_count": 1,
      "outputs": []
    },
    {
      "cell_type": "code",
      "metadata": {
        "id": "Xu93I5KZjm-J"
      },
      "source": [
        "# Import the `pandas` library as `pd`. You have learned about these libraries in your previous work for Data Mining.\n",
        "import pandas as pd\n",
        "iris_data = pd.read_csv('') #path may have to be altered"
      ],
      "execution_count": null,
      "outputs": []
    }
  ]
}